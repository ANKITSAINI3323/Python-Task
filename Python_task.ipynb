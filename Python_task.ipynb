{
  "nbformat": 4,
  "nbformat_minor": 0,
  "metadata": {
    "colab": {
      "provenance": []
    },
    "kernelspec": {
      "name": "python3",
      "display_name": "Python 3"
    },
    "language_info": {
      "name": "python"
    }
  },
  "cells": [
    {
      "cell_type": "markdown",
      "source": [
        "# Task 1:: Do not write any custom logic. Use only functions/packages from the Python library.\n",
        "\n",
        "# Use this input string for sub-tasks (1.a) and (1.b).\n",
        "# input_str = \"aaabbaacccaab\"\n",
        "#-----------------------------------------------------------------------------------------------\n",
        "\n",
        "# (1.a) Count letters in whole string\n",
        "\n"
      ],
      "metadata": {
        "id": "pBD65F-1XaoA"
      }
    },
    {
      "cell_type": "code",
      "execution_count": 1,
      "metadata": {
        "colab": {
          "base_uri": "https://localhost:8080/"
        },
        "id": "u5eusKzMJQI3",
        "outputId": "611cb27c-813c-4a11-ca33-5b6bb28df6eb"
      },
      "outputs": [
        {
          "output_type": "stream",
          "name": "stdout",
          "text": [
            "Counter({'a': 7, 'b': 3, 'c': 3})\n"
          ]
        }
      ],
      "source": [
        "#Solution\n",
        "from collections import Counter\n",
        "\n",
        "input_str = \"aaabbaacccaab\"\n",
        "\n",
        "letter_count = Counter(input_str)\n",
        "print(letter_count)\n"
      ]
    },
    {
      "cell_type": "markdown",
      "source": [
        "# (1.b) Count consecutive letters in whole string"
      ],
      "metadata": {
        "id": "JT-XF-F2X2Zv"
      }
    },
    {
      "cell_type": "code",
      "source": [
        "#Solution\n",
        "from itertools import groupby\n",
        "\n",
        "input_str = \"aaabbaacccaab\"\n",
        "\n",
        "consecutive_counts = [(key, len(list(group))) for key, group in groupby(input_str)]\n",
        "print(consecutive_counts)\n"
      ],
      "metadata": {
        "colab": {
          "base_uri": "https://localhost:8080/"
        },
        "id": "Wp5knX8SJapk",
        "outputId": "604dcfb1-22ce-483e-8559-5fee09542c3d"
      },
      "execution_count": 2,
      "outputs": [
        {
          "output_type": "stream",
          "name": "stdout",
          "text": [
            "[('a', 3), ('b', 2), ('a', 2), ('c', 3), ('a', 2), ('b', 1)]\n"
          ]
        }
      ]
    },
    {
      "cell_type": "markdown",
      "source": [
        "# Task 2:: Do not write any custom logic. Use only functions/packages from the Python library.\n",
        "\n",
        "# Use this input list for sub tasks (2.a) and (2.b)\n",
        "input_list = [1, 2, 3, 4, 5]\n",
        "#-----------------------------------------------------------------------------------------------\n",
        "\n",
        "# (2.a) Find the square of each element and create a new list.\n",
        "\n",
        "\n"
      ],
      "metadata": {
        "id": "XiBPAr-aYKhw"
      }
    },
    {
      "cell_type": "code",
      "source": [
        "#Solution\n",
        "input_list = [1, 2, 3, 4, 5]\n",
        "\n",
        "squared_list = list(map(lambda x: x**2, input_list))\n",
        "print(squared_list)\n"
      ],
      "metadata": {
        "colab": {
          "base_uri": "https://localhost:8080/"
        },
        "id": "hPaSbJrfKXNd",
        "outputId": "cf1a7775-8734-4629-b071-c8fc86983cef"
      },
      "execution_count": 3,
      "outputs": [
        {
          "output_type": "stream",
          "name": "stdout",
          "text": [
            "[1, 4, 9, 16, 25]\n"
          ]
        }
      ]
    },
    {
      "cell_type": "markdown",
      "source": [
        "\n",
        "# (2.b) Find the sum of squares for the given input list."
      ],
      "metadata": {
        "id": "p3gzlBgTYYZX"
      }
    },
    {
      "cell_type": "code",
      "source": [
        "#Solution\n",
        "input_list = [1, 2, 3, 4, 5]\n",
        "\n",
        "sum_of_squares = sum(map(lambda x: x**2, input_list))\n",
        "print(sum_of_squares)\n"
      ],
      "metadata": {
        "colab": {
          "base_uri": "https://localhost:8080/"
        },
        "id": "VfdF3GLzLCK6",
        "outputId": "ee8cbf25-17af-4f3e-cc9d-c2776154132a"
      },
      "execution_count": 4,
      "outputs": [
        {
          "output_type": "stream",
          "name": "stdout",
          "text": [
            "55\n"
          ]
        }
      ]
    },
    {
      "cell_type": "markdown",
      "source": [
        "# Task 3:: Write a custom logic to check whether a string is palindrome or not.\n",
        "# Note: Do not use list comprehension or string reverse logic"
      ],
      "metadata": {
        "id": "eTZdCJ7YYduR"
      }
    },
    {
      "cell_type": "code",
      "source": [
        "#Solution\n",
        "def is_palindrome(input_str):\n",
        "    # Convert the input string to lowercase\n",
        "    input_str = input_str.lower()\n",
        "\n",
        "    # Initialize two pointers, one at the beginning and one at the end of the string\n",
        "    start = 0\n",
        "    end = len(input_str) - 1\n",
        "\n",
        "    # Loop until the pointers meet\n",
        "    while start < end:\n",
        "        # Check if the characters at the pointers are not equalpython questions\n",
        "        if input_str[start] != input_str[end]:\n",
        "            return False  # If characters don't match, it's not a palindrome\n",
        "\n",
        "        # Move the pointers towards the center of the string\n",
        "        start += 1\n",
        "        end -= 1\n",
        "\n",
        "    return True  # If the loop completes without returning False, it's a palindrome\n",
        "\n",
        "# Test cases\n",
        "test_strings = [\"radar\", \"level\", \"hello\", \"deified\"]\n",
        "\n",
        "for test_string in test_strings:\n",
        "    result = is_palindrome(test_string)\n",
        "    print(f\"The string '{test_string}' is a palindrome: {result}\")\n"
      ],
      "metadata": {
        "colab": {
          "base_uri": "https://localhost:8080/"
        },
        "id": "nMuDGPEvLWc-",
        "outputId": "300bb16d-31d9-4ed4-a019-eedc8f78c40b"
      },
      "execution_count": 1,
      "outputs": [
        {
          "output_type": "stream",
          "name": "stdout",
          "text": [
            "The string 'radar' is a palindrome: True\n",
            "The string 'level' is a palindrome: True\n",
            "The string 'hello' is a palindrome: False\n",
            "The string 'deified' is a palindrome: True\n"
          ]
        }
      ]
    },
    {
      "cell_type": "markdown",
      "source": [
        "# Task 4:: Do not write any custom logic. Use only functions/packages from the Python library.\n",
        "\n",
        "# Sort the below input list using the last element of each tuple.\n",
        "\"\"\"\n",
        "\n",
        "# Use this input list. Each element tuple.\n",
        "# input_tuple_list = [(4,2,7),(3,4,8),(1,2,4),(7,6,1),(9,3,1),(2,4,2)]"
      ],
      "metadata": {
        "id": "I5JZKvwVY7Gs"
      }
    },
    {
      "cell_type": "code",
      "source": [
        "#Solution\n",
        "import operator\n",
        "\n",
        "input_tuple_list = [(4, 2, 7), (3, 4, 8), (1, 2, 4), (7, 6, 1), (9, 3, 1), (2, 4, 2)]\n",
        "\n",
        "sorted_list = sorted(input_tuple_list, key=operator.itemgetter(-1))\n",
        "sorted_list\n"
      ],
      "metadata": {
        "colab": {
          "base_uri": "https://localhost:8080/"
        },
        "id": "uC_VMex5NdhN",
        "outputId": "8a444ac7-ec18-4471-e2be-0c346d56c40f"
      },
      "execution_count": 9,
      "outputs": [
        {
          "output_type": "execute_result",
          "data": {
            "text/plain": [
              "[(7, 6, 1), (9, 3, 1), (2, 4, 2), (1, 2, 4), (4, 2, 7), (3, 4, 8)]"
            ]
          },
          "metadata": {},
          "execution_count": 9
        }
      ]
    },
    {
      "cell_type": "markdown",
      "source": [
        "# Task 5:: Find the list of students who have the second highest marks.\n",
        "# \"\"\"\n",
        "\n",
        "#Use this input dictionary\n",
        "# student_marks = {\n",
        "#  'Physics': 82,\n",
        "#  'Math': 65,\n",
        "#  'history': 75,\n",
        "#  'Ashok': 60,\n",
        "#  'Reddy': 60,\n",
        "#  'RRR': 50,\n",
        "#  'aaa':50\n",
        "}"
      ],
      "metadata": {
        "id": "0W482EtKZbNY"
      }
    },
    {
      "cell_type": "code",
      "source": [
        "#Solution\n",
        "student_marks = {\n",
        "  'Physics': 82,\n",
        "  'Math': 65,\n",
        "  'history': 75,\n",
        "  'Ashok': 60,\n",
        "  'Reddy': 60,\n",
        "  'RRR': 50,\n",
        "  'aaa': 50\n",
        "}\n",
        "\n",
        "# Extract unique marks and sort them in descending order\n",
        "unique_marks = sorted(set(student_marks.values()), reverse=True)\n",
        "\n",
        "# Find the second-highest mark\n",
        "second_highest_mark = unique_marks[1]\n",
        "\n",
        "# Extract students with the second-highest marks\n",
        "students_with_second_highest_marks = [student for student, marks in student_marks.items() if marks == second_highest_mark]\n",
        "\n",
        "print(students_with_second_highest_marks)\n"
      ],
      "metadata": {
        "colab": {
          "base_uri": "https://localhost:8080/"
        },
        "id": "kT0Tpck_Odee",
        "outputId": "88e0ea25-d7c8-4abd-c8b4-2a65130f91c3"
      },
      "execution_count": 10,
      "outputs": [
        {
          "output_type": "stream",
          "name": "stdout",
          "text": [
            "['history']\n"
          ]
        }
      ]
    },
    {
      "cell_type": "markdown",
      "source": [
        "# Task 6:: Complete the given sample code. Use the `compare` method to check if instances `c1` and `c2` are identical.\n",
        "# Print `True` if both `c1` and `c2` are same elements else print `False`\n",
        "# \"\"\"\n",
        "\n",
        "# class Vector:\n",
        "##  def __init__(a,b):\n",
        "#    a = a\n",
        "#    b = b\n",
        "\n",
        "#  def compare():\n",
        "#    pass\n",
        "\n",
        "\n",
        "# c1=Vector(10,20)\n",
        "# c2=Vector(10,20)\n",
        ""
      ],
      "metadata": {
        "id": "_cIAZ0NFZ2SV"
      }
    },
    {
      "cell_type": "code",
      "source": [
        "#Solution\n",
        "class Vector:\n",
        "    def __init__(self, a, b):\n",
        "        self.a = a\n",
        "        self.b = b\n",
        "\n",
        "    def compare(self, other):\n",
        "        return self.a == other.a and self.b == other.b\n",
        "\n",
        "\n",
        "c1 = Vector(10, 20)\n",
        "c2 = Vector(10, 20)\n",
        "\n",
        "result = c1.compare(c2)\n",
        "print(result)\n"
      ],
      "metadata": {
        "colab": {
          "base_uri": "https://localhost:8080/"
        },
        "id": "lo2tkfj2PGdS",
        "outputId": "824b48a3-dc81-49ec-ee11-40e0db421dcf"
      },
      "execution_count": 11,
      "outputs": [
        {
          "output_type": "stream",
          "name": "stdout",
          "text": [
            "True\n"
          ]
        }
      ]
    },
    {
      "cell_type": "markdown",
      "source": [
        "# Task 7:: Create a function to check if any of the number in the below given input list is odd or even.\n",
        "# The function should return a dictionary, stating two keys, 'odd' and 'even' and each of them having a unique\n",
        "# list of values based on the logic you used to classify the input list.\n",
        "\n",
        "# For example:\n",
        "# input -> [1,2,3,1,2,4]\n",
        "# output -> {'odd': [1,3], 'even': [2,4]}\n",
        "\n",
        "\"\"\"\n",
        "# Use this input list.\n",
        "# input_list = [5,8,10,13,100,104,107,13,1031,5,1245,1111,10,1031,8,1032]\n"
      ],
      "metadata": {
        "id": "cfM6w-_XaWGz"
      }
    },
    {
      "cell_type": "code",
      "source": [
        "#Solution\n",
        "def classify_numbers(input_list):\n",
        "    odd_numbers = []\n",
        "    even_numbers = []\n",
        "\n",
        "    for num in set(input_list):  # Using set to get unique numbers from the input list\n",
        "        if num % 2 == 0:  # Check if the number is even\n",
        "            even_numbers.append(num)\n",
        "        else:\n",
        "            odd_numbers.append(num)\n",
        "\n",
        "    return {'odd': odd_numbers, 'even': even_numbers}\n",
        "\n",
        "# Input list\n",
        "input_list = [5, 8, 10, 13, 100, 104, 107, 13, 1031, 5, 1245, 1111, 10, 1031, 8, 1032]\n",
        "\n",
        "# Call the function and print the output\n",
        "output = classify_numbers(input_list)\n",
        "print(output)\n"
      ],
      "metadata": {
        "colab": {
          "base_uri": "https://localhost:8080/"
        },
        "id": "RwB7vQsSPr8L",
        "outputId": "073b20cf-d00f-46be-bae9-ab064a951f65"
      },
      "execution_count": 12,
      "outputs": [
        {
          "output_type": "stream",
          "name": "stdout",
          "text": [
            "{'odd': [5, 1031, 107, 13, 1111, 1245], 'even': [100, 8, 104, 10, 1032]}\n"
          ]
        }
      ]
    },
    {
      "cell_type": "markdown",
      "source": [
        "# Task 8::\n",
        "\n",
        "# 8.1:\n",
        "# Write a function to generate a list of square of values from a given dictionary.\n",
        "\n",
        "# Note: Function should use dictionary comprehension only.\n",
        "\n",
        "# For example:\n",
        "# input -> {\"k1\": 2, \"k2\": 3, \"k3\": 4, \"k4\": 2, \"k5\": 5}\n",
        "# output -> [4, 9, 16, 4, 25]"
      ],
      "metadata": {
        "id": "Q_0sU4vFahL4"
      }
    },
    {
      "cell_type": "code",
      "source": [
        "#Solution\n",
        "def square_values_dict(input_dict):\n",
        "    return [value ** 2 for value in input_dict.values()]\n",
        "\n",
        "# Input dictionary\n",
        "input_dict = {\"k1\": 2, \"k2\": 3, \"k3\": 4, \"k4\": 2, \"k5\": 5}\n",
        "\n",
        "# Call the function and print the output\n",
        "output_8_1 = square_values_dict(input_dict)\n",
        "print(output_8_1)\n"
      ],
      "metadata": {
        "colab": {
          "base_uri": "https://localhost:8080/"
        },
        "id": "Q5Kso2QGQJYI",
        "outputId": "88a37a47-9138-4646-d855-1fd0251a3f24"
      },
      "execution_count": 13,
      "outputs": [
        {
          "output_type": "stream",
          "name": "stdout",
          "text": [
            "[4, 9, 16, 4, 25]\n"
          ]
        }
      ]
    },
    {
      "cell_type": "markdown",
      "source": [
        "# 8.2:\n",
        "# Generate a list of elements that cannot be divided by \"2\" from a given input list.\n",
        "\n",
        "# For example:\n",
        "# input -> [1,2,3,4]\n",
        "# output -> [1,3]\n",
        "\n",
        "# Note: Use the output of task 8.1 as input value\n",
        "# Function should use list comprehension only.\n",
        "\"\"\"\n",
        "\n",
        "# input_dict = {\"Total_classes\": 2, \"Total_students\": 10}"
      ],
      "metadata": {
        "id": "yKjo5sFSa1uz"
      }
    },
    {
      "cell_type": "code",
      "source": [
        "#Solution\n",
        "def elements_not_divisible_by_2(input_list):\n",
        "    return [element for element in input_list if element % 2 != 0]\n",
        "\n",
        "# Input list (Output of Task 8.1)\n",
        "input_list_8_2 = [4, 9, 16, 4, 25]\n",
        "\n",
        "# Call the function and print the output\n",
        "output_8_2 = elements_not_divisible_by_2(input_list_8_2)\n",
        "print(output_8_2)\n"
      ],
      "metadata": {
        "colab": {
          "base_uri": "https://localhost:8080/"
        },
        "id": "fWqg9hbDQrkf",
        "outputId": "f06404ea-4378-4249-afb7-c6d7763f720c"
      },
      "execution_count": 14,
      "outputs": [
        {
          "output_type": "stream",
          "name": "stdout",
          "text": [
            "[9, 25]\n"
          ]
        }
      ]
    },
    {
      "cell_type": "code",
      "source": [],
      "metadata": {
        "id": "IcWA5IuvRCAu"
      },
      "execution_count": null,
      "outputs": []
    }
  ]
}